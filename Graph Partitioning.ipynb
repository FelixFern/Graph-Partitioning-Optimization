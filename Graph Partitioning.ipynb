{
 "cells": [
  {
   "cell_type": "markdown",
   "metadata": {},
   "source": [
    "# Import Library"
   ]
  },
  {
   "cell_type": "code",
   "execution_count": 73,
   "metadata": {},
   "outputs": [],
   "source": [
    "import numpy as np\n",
    "import matplotlib.pyplot as plt"
   ]
  },
  {
   "cell_type": "markdown",
   "metadata": {},
   "source": [
    "# Initial Setup"
   ]
  },
  {
   "cell_type": "code",
   "execution_count": 84,
   "metadata": {},
   "outputs": [],
   "source": [
    "n_points = 100\n",
    "interval = [-100, 100]\n",
    "n_partition = 10\n",
    "partition_max_n = 12\n",
    "partition_min_n = 8"
   ]
  },
  {
   "cell_type": "markdown",
   "metadata": {},
   "source": [
    "## Generate Random Points"
   ]
  },
  {
   "cell_type": "code",
   "execution_count": 75,
   "metadata": {},
   "outputs": [],
   "source": [
    "def generate_rand_points(n, interval): \n",
    "    return np.random.rand(2, n) * interval[0] + interval[1]"
   ]
  },
  {
   "cell_type": "code",
   "execution_count": 76,
   "metadata": {},
   "outputs": [],
   "source": [
    "rand_points = generate_rand_points(n_points, interval)"
   ]
  },
  {
   "cell_type": "code",
   "execution_count": 77,
   "metadata": {},
   "outputs": [
    {
     "data": {
      "text/plain": [
       "<matplotlib.collections.PathCollection at 0x142f0ab90>"
      ]
     },
     "execution_count": 77,
     "metadata": {},
     "output_type": "execute_result"
    },
    {
     "data": {
      "image/png": "[encoded data removed]",
      "text/plain": [
       "<Figure size 640x480 with 1 Axes>"
      ]
     },
     "metadata": {},
     "output_type": "display_data"
    }
   ],
   "source": [
    "plt.scatter(rand_points[0], rand_points[1])"
   ]
  },
  {
   "cell_type": "markdown",
   "metadata": {},
   "source": [
    "## Calculate Weight"
   ]
  },
  {
   "cell_type": "code",
   "execution_count": 78,
   "metadata": {},
   "outputs": [],
   "source": [
    "def calculate_weight(points):\n",
    "    weight = np.zeros([n_points, n_points])\n",
    "    size = points.shape\n",
    "    for i in range(size[1]):\n",
    "        for j in range(size[1]):\n",
    "            if i != j: \n",
    "                weight[i, j] = np.sqrt(np.abs(points[0][i] - points[0][j]) + np.abs(points[1][i] - points[1][j]))\n",
    "    return weight"
   ]
  },
  {
   "cell_type": "code",
   "execution_count": 79,
   "metadata": {},
   "outputs": [],
   "source": [
    "weight = calculate_weight(rand_points)"
   ]
  },
  {
   "cell_type": "markdown",
   "metadata": {},
   "source": [
    "## Set Partition"
   ]
  },
  {
   "cell_type": "code",
   "execution_count": 193,
   "metadata": {},
   "outputs": [],
   "source": [
    "class Partition: \n",
    "    def __init__(self): \n",
    "        self.points_x = np.array([])\n",
    "        self.points_y = np.array([])\n",
    "\n",
    "    def get_points(self):\n",
    "        return self.points_x[0], self.points_y[0]\n",
    "\n",
    "    def spread(self):\n",
    "        return max(max(self.points_x) - min(self.points_y), max(self.points_y) - min(self.points_y))\n",
    "\n",
    "    def add_point(self, new_x, new_y): \n",
    "        self.points_x = np.append(self.points_x, new_x),\n",
    "        self.points_y = np.append(self.points_y, new_y),\n",
    "\n",
    "    def remove_point(self, index):\n",
    "        self.points_x = np.delete(index, self.points_x)\n",
    "        self.points_y = np.delete(index, self.points_y)\n",
    "\n",
    "    def get_weight(self):\n",
    "        size = len(self.points_x[0])\n",
    "        temp = np.zeros([size, size])\n",
    "        for i in range(size):\n",
    "            for j in range(size):\n",
    "                if i != j: \n",
    "                    temp[i, j] = np.sqrt(np.abs(self.points_x[0][i] - self.points_x[0][j]) + np.abs(self.points_y[0][i] - self.points_y[0][j]))\n",
    "        return temp"
   ]
  },
  {
   "cell_type": "code",
   "execution_count": 194,
   "metadata": {},
   "outputs": [],
   "source": [
    "partitions = np.array([])\n",
    "\n",
    "for i in range(n_partition):\n",
    "    partitions = np.append(partitions, Partition())"
   ]
  }
 ],
 "metadata": {
  "kernelspec": {
   "display_name": "Python 3",
   "language": "python",
   "name": "python3"
  },
  "language_info": {
   "codemirror_mode": {
    "name": "ipython",
    "version": 3
   },
   "file_extension": ".py",
   "mimetype": "text/x-python",
   "name": "python",
   "nbconvert_exporter": "python",
   "pygments_lexer": "ipython3",
   "version": "3.11.5"
  }
 },
 "nbformat": 4,
 "nbformat_minor": 2
}
